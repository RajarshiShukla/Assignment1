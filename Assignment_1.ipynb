{
  "nbformat": 4,
  "nbformat_minor": 0,
  "metadata": {
    "colab": {
      "provenance": []
    },
    "kernelspec": {
      "name": "python3",
      "display_name": "Python 3"
    },
    "language_info": {
      "name": "python"
    }
  },
  "cells": [
    {
      "cell_type": "code",
      "execution_count": null,
      "metadata": {
        "id": "8U7E0HIIMOID"
      },
      "outputs": [],
      "source": [
        "# Q1.  Explain with an example each when to use a for loop and a while loop.\n",
        "\n",
        "The for loop is used when we know the number of iterations, that is, how many times a statement must be executed. That is why, when we initialize the for loop, we must define the ending point.\n",
        " \n",
        "Example of for loop:\n",
        "\n",
        "n = [1, 2, 3] \n",
        "\n",
        "for i in n:  \n",
        "    print(i)\n",
        "Output:\n",
        "1\n",
        "2\n",
        "3\n",
        "\n",
        "While loop: A while loop is used when the number of iterations is unknown. It is used when we need to end the loop on a condition other than the number of repetitions.\n",
        "\n",
        "Example of while loop:\n",
        "\n",
        "i = 1  \n",
        "while i < 6:  \n",
        "    print(i)\n",
        "    i=i+1\n",
        "\n",
        "Output:\n",
        "1\n",
        "2\n",
        "3\n",
        "4\n",
        "5"
      ]
    },
    {
      "cell_type": "code",
      "source": [
        "# Q2. Write a python program to print the sum and product of the first 10 natural numbers using for and while loop.\n",
        "\n",
        "\n",
        "product = 1 \n",
        "sum = 0 \n",
        "\n",
        "# Using For loop \n",
        "\n",
        "for i in range(11):\n",
        "  sum = sum + i ;\n",
        "  if i == 0 :\n",
        "    product = product*(i+1);\n",
        "    continue;  \n",
        "  product = product*i;\n",
        "print(sum)\n",
        "print(product)\n"
      ],
      "metadata": {
        "colab": {
          "base_uri": "https://localhost:8080/"
        },
        "id": "el3Y7k0cMUEo",
        "outputId": "864ebca2-54a9-4abd-98d6-2b99a8e60f46"
      },
      "execution_count": 1,
      "outputs": [
        {
          "output_type": "stream",
          "name": "stdout",
          "text": [
            "55\n",
            "3628800\n"
          ]
        }
      ]
    },
    {
      "cell_type": "code",
      "source": [
        "# Q2. Write a python program to print the sum and product of the first 10 natural numbers using for and while loop.\n",
        "\n",
        "sum = 0\n",
        "product = 1 \n",
        "a=1\n",
        "\n",
        "# Using While  loop \n",
        "\n",
        "while a<=10:\n",
        "   sum = sum + a;\n",
        "   product = product * a;\n",
        "   a = a + 1;\n",
        "print(sum)\n",
        "print(product)"
      ],
      "metadata": {
        "colab": {
          "base_uri": "https://localhost:8080/"
        },
        "id": "ncyzT7faMm78",
        "outputId": "55823b1d-a0d1-4da3-ccda-6f1c453d0fc3"
      },
      "execution_count": 2,
      "outputs": [
        {
          "output_type": "stream",
          "name": "stdout",
          "text": [
            "55\n",
            "3628800\n"
          ]
        }
      ]
    },
    {
      "cell_type": "code",
      "source": [
        "# Q3. Create a python program to compute the electricity bill for a household.The per-unit charges in rupees are as follows: For the first 100 units, the user will be charged Rs. 4.5 per\n",
        "#      unit, for the next 100 units, the user will be charged Rs. 6 per unit, and for the next 100 units, the user will be charged Rs. 10 per unit, After 300 units and above the user will be charged Rs. 20 per unit.\n",
        "#        You are required to take the units of electricity consumed in a month from the user as input.\n",
        "\n",
        "charge = 0\n",
        "units =  int(input(\"Enter number of units consumption in a month\"))\n",
        "\n",
        "if  0< units <=100:\n",
        "   charge = units * 4.5\n",
        "   \n",
        "\n",
        "elif 100< units <= 200:\n",
        "    charge = units * 6\n",
        "\n",
        "elif 200< units <= 300:\n",
        "    charge = units * 10\n",
        "else:\n",
        "    charge = units * 20\n",
        "print(charge)"
      ],
      "metadata": {
        "colab": {
          "base_uri": "https://localhost:8080/"
        },
        "id": "VMCqZH5RM2jf",
        "outputId": "ec66d324-cdc1-4189-c26d-a95a3ec8209b"
      },
      "execution_count": 4,
      "outputs": [
        {
          "output_type": "stream",
          "name": "stdout",
          "text": [
            "Enter number of units consumption in a month  55\n",
            "247.5\n"
          ]
        }
      ]
    },
    {
      "cell_type": "code",
      "source": [
        "#  Q4. Create a list of numbers from 1 to 100. Use for loop and while loop to calculate the cube of each number and if the cube of that number is divisible by 4 or 5 then append that number in a list and print\n",
        "#  that list.\n",
        "\n",
        "\n",
        "# Using For loop \n",
        "\n",
        "\n",
        "l = list(range(1,101))\n",
        "l1 = []\n",
        "cube = 0\n",
        "for i in l:\n",
        "   cube = i**3;\n",
        "   print(cube) \n",
        "   if cube%4 == 0 or cube%5==0:\n",
        "     l1.append(cube);\n",
        "print(l1)"
      ],
      "metadata": {
        "colab": {
          "base_uri": "https://localhost:8080/"
        },
        "id": "qtx7TQguNSKz",
        "outputId": "1ba1d9e7-2fcf-4fe8-ad71-d2ab56d7f62b"
      },
      "execution_count": 6,
      "outputs": [
        {
          "output_type": "stream",
          "name": "stdout",
          "text": [
            "1\n",
            "8\n",
            "27\n",
            "64\n",
            "125\n",
            "216\n",
            "343\n",
            "512\n",
            "729\n",
            "1000\n",
            "1331\n",
            "1728\n",
            "2197\n",
            "2744\n",
            "3375\n",
            "4096\n",
            "4913\n",
            "5832\n",
            "6859\n",
            "8000\n",
            "9261\n",
            "10648\n",
            "12167\n",
            "13824\n",
            "15625\n",
            "17576\n",
            "19683\n",
            "21952\n",
            "24389\n",
            "27000\n",
            "29791\n",
            "32768\n",
            "35937\n",
            "39304\n",
            "42875\n",
            "46656\n",
            "50653\n",
            "54872\n",
            "59319\n",
            "64000\n",
            "68921\n",
            "74088\n",
            "79507\n",
            "85184\n",
            "91125\n",
            "97336\n",
            "103823\n",
            "110592\n",
            "117649\n",
            "125000\n",
            "132651\n",
            "140608\n",
            "148877\n",
            "157464\n",
            "166375\n",
            "175616\n",
            "185193\n",
            "195112\n",
            "205379\n",
            "216000\n",
            "226981\n",
            "238328\n",
            "250047\n",
            "262144\n",
            "274625\n",
            "287496\n",
            "300763\n",
            "314432\n",
            "328509\n",
            "343000\n",
            "357911\n",
            "373248\n",
            "389017\n",
            "405224\n",
            "421875\n",
            "438976\n",
            "456533\n",
            "474552\n",
            "493039\n",
            "512000\n",
            "531441\n",
            "551368\n",
            "571787\n",
            "592704\n",
            "614125\n",
            "636056\n",
            "658503\n",
            "681472\n",
            "704969\n",
            "729000\n",
            "753571\n",
            "778688\n",
            "804357\n",
            "830584\n",
            "857375\n",
            "884736\n",
            "912673\n",
            "941192\n",
            "970299\n",
            "1000000\n",
            "[8, 64, 125, 216, 512, 1000, 1728, 2744, 3375, 4096, 5832, 8000, 10648, 13824, 15625, 17576, 21952, 27000, 32768, 39304, 42875, 46656, 54872, 64000, 74088, 85184, 91125, 97336, 110592, 125000, 140608, 157464, 166375, 175616, 195112, 216000, 238328, 262144, 274625, 287496, 314432, 343000, 373248, 405224, 421875, 438976, 474552, 512000, 551368, 592704, 614125, 636056, 681472, 729000, 778688, 830584, 857375, 884736, 941192, 1000000]\n"
          ]
        }
      ]
    },
    {
      "cell_type": "code",
      "source": [
        "#  Q4. Create a list of numbers from 1 to 100. Use for loop and while loop to calculate the cube of each number and if the cube of that number is divisible by 4 or 5 then append that number in a list and print\n",
        "#  that list.\n",
        "\n",
        "\n",
        "# Using While  loop \n",
        "\n",
        "\n",
        "l = list(range(1,101))\n",
        "l1=[]\n",
        "cube = 0\n",
        "a = 1 \n",
        "while a<=100:\n",
        "   cube = a**3;\n",
        "   print(cube)\n",
        "   a=a+1\n",
        "   if cube%4==0 or cube%5==0:\n",
        "     l1.append(cube); \n",
        "print(l1) "
      ],
      "metadata": {
        "colab": {
          "base_uri": "https://localhost:8080/"
        },
        "id": "DXTeqm07RzxY",
        "outputId": "f8314144-bea0-4456-85ba-6faa8672443b"
      },
      "execution_count": 7,
      "outputs": [
        {
          "output_type": "stream",
          "name": "stdout",
          "text": [
            "1\n",
            "8\n",
            "27\n",
            "64\n",
            "125\n",
            "216\n",
            "343\n",
            "512\n",
            "729\n",
            "1000\n",
            "1331\n",
            "1728\n",
            "2197\n",
            "2744\n",
            "3375\n",
            "4096\n",
            "4913\n",
            "5832\n",
            "6859\n",
            "8000\n",
            "9261\n",
            "10648\n",
            "12167\n",
            "13824\n",
            "15625\n",
            "17576\n",
            "19683\n",
            "21952\n",
            "24389\n",
            "27000\n",
            "29791\n",
            "32768\n",
            "35937\n",
            "39304\n",
            "42875\n",
            "46656\n",
            "50653\n",
            "54872\n",
            "59319\n",
            "64000\n",
            "68921\n",
            "74088\n",
            "79507\n",
            "85184\n",
            "91125\n",
            "97336\n",
            "103823\n",
            "110592\n",
            "117649\n",
            "125000\n",
            "132651\n",
            "140608\n",
            "148877\n",
            "157464\n",
            "166375\n",
            "175616\n",
            "185193\n",
            "195112\n",
            "205379\n",
            "216000\n",
            "226981\n",
            "238328\n",
            "250047\n",
            "262144\n",
            "274625\n",
            "287496\n",
            "300763\n",
            "314432\n",
            "328509\n",
            "343000\n",
            "357911\n",
            "373248\n",
            "389017\n",
            "405224\n",
            "421875\n",
            "438976\n",
            "456533\n",
            "474552\n",
            "493039\n",
            "512000\n",
            "531441\n",
            "551368\n",
            "571787\n",
            "592704\n",
            "614125\n",
            "636056\n",
            "658503\n",
            "681472\n",
            "704969\n",
            "729000\n",
            "753571\n",
            "778688\n",
            "804357\n",
            "830584\n",
            "857375\n",
            "884736\n",
            "912673\n",
            "941192\n",
            "970299\n",
            "1000000\n",
            "[8, 64, 125, 216, 512, 1000, 1728, 2744, 3375, 4096, 5832, 8000, 10648, 13824, 15625, 17576, 21952, 27000, 32768, 39304, 42875, 46656, 54872, 64000, 74088, 85184, 91125, 97336, 110592, 125000, 140608, 157464, 166375, 175616, 195112, 216000, 238328, 262144, 274625, 287496, 314432, 343000, 373248, 405224, 421875, 438976, 474552, 512000, 551368, 592704, 614125, 636056, 681472, 729000, 778688, 830584, 857375, 884736, 941192, 1000000]\n"
          ]
        }
      ]
    },
    {
      "cell_type": "code",
      "source": [
        "# Q5. Write a program to filter count vowels in the below-given string.\n",
        "string = \"I want to become a data scientist\" ###\n",
        "\n",
        "sum = 0\n",
        "string = \"I want to become a data scientist\"\n",
        "\n",
        "sum = string.count(\"a\") + string.count(\"e\") + string.count(\"o\") +  string.count(\"i\") + string.count(\"I\") \n",
        "print(sum)"
      ],
      "metadata": {
        "colab": {
          "base_uri": "https://localhost:8080/"
        },
        "id": "CSaozszgS9Fk",
        "outputId": "8491329c-e503-4a5d-95b5-3a1c73187e41"
      },
      "execution_count": 8,
      "outputs": [
        {
          "output_type": "stream",
          "name": "stdout",
          "text": [
            "12\n"
          ]
        }
      ]
    },
    {
      "cell_type": "code",
      "source": [],
      "metadata": {
        "id": "N5RxC1ZITCEt"
      },
      "execution_count": null,
      "outputs": []
    }
  ]
}